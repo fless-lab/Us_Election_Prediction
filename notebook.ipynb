{
 "cells": [
  {
   "cell_type": "markdown",
   "metadata": {},
   "source": [
    "# PROJET DE SOUTENANCE - DATAGONG x 10.000 Codeurs"
   ]
  },
  {
   "cell_type": "markdown",
   "metadata": {},
   "source": [
    "Sujet : Prédiction du parti politique victorieux des élection présidentielles de 2020 au USA à partir de données socio-démographiques\n",
    "\n",
    "Plan de travail :\n",
    "\n",
    "- Setup (Installation et import des librairies nécessaires)\n",
    "- Import des données\n",
    "- Préparation & Constitution de la donnée exploitable\n",
    "- Analyse exploratoire\n",
    "- Modélisation\n",
    "- Evaluation\n",
    "- Conclusion"
   ]
  },
  {
   "cell_type": "markdown",
   "metadata": {},
   "source": [
    "## 1. Setup"
   ]
  },
  {
   "cell_type": "markdown",
   "metadata": {},
   "source": [
    "### 1.1. INSTALLATION DES DEPENDANCES"
   ]
  },
  {
   "cell_type": "markdown",
   "metadata": {},
   "source": [
    "Nous devons installer les librairies suivantes :\n",
    "\n",
    "- pandas\n",
    "- numpy\n",
    "- scikit-learn\n",
    "- xlrd\n",
    "- openpyxl\n",
    "- matplotlib\n",
    "- seaborn\n",
    "- shap\n",
    "- xgboost\n",
    "\n",
    "Pour cela, nous pouvons utiliser la commande suivante :\n",
    "\n",
    "```bash\n",
    "pip install -r requirements.txt\n",
    "```"
   ]
  },
  {
   "cell_type": "code",
   "execution_count": 1,
   "metadata": {},
   "outputs": [
    {
     "name": "stdout",
     "output_type": "stream",
     "text": [
      "Requirement already satisfied: pandas in ./mvenv/lib/python3.10/site-packages (from -r requirements.txt (line 1)) (2.2.3)\n",
      "Requirement already satisfied: numpy==2.1.0 in ./mvenv/lib/python3.10/site-packages (from -r requirements.txt (line 2)) (2.1.0)\n",
      "Requirement already satisfied: scikit-learn in ./mvenv/lib/python3.10/site-packages (from -r requirements.txt (line 3)) (1.6.1)\n",
      "Requirement already satisfied: xlrd in ./mvenv/lib/python3.10/site-packages (from -r requirements.txt (line 4)) (2.0.1)\n",
      "Requirement already satisfied: openpyxl in ./mvenv/lib/python3.10/site-packages (from -r requirements.txt (line 5)) (3.1.5)\n",
      "Requirement already satisfied: matplotlib in ./mvenv/lib/python3.10/site-packages (from -r requirements.txt (line 6)) (3.10.0)\n",
      "Requirement already satisfied: seaborn in ./mvenv/lib/python3.10/site-packages (from -r requirements.txt (line 7)) (0.13.2)\n",
      "Requirement already satisfied: shap in ./mvenv/lib/python3.10/site-packages (from -r requirements.txt (line 8)) (0.46.0)\n",
      "Requirement already satisfied: xgboost in ./mvenv/lib/python3.10/site-packages (from -r requirements.txt (line 9)) (2.1.4)\n",
      "Requirement already satisfied: pytz>=2020.1 in ./mvenv/lib/python3.10/site-packages (from pandas->-r requirements.txt (line 1)) (2025.1)\n",
      "Requirement already satisfied: python-dateutil>=2.8.2 in ./mvenv/lib/python3.10/site-packages (from pandas->-r requirements.txt (line 1)) (2.9.0.post0)\n",
      "Requirement already satisfied: tzdata>=2022.7 in ./mvenv/lib/python3.10/site-packages (from pandas->-r requirements.txt (line 1)) (2025.1)\n",
      "Requirement already satisfied: scipy>=1.6.0 in ./mvenv/lib/python3.10/site-packages (from scikit-learn->-r requirements.txt (line 3)) (1.15.1)\n",
      "Requirement already satisfied: threadpoolctl>=3.1.0 in ./mvenv/lib/python3.10/site-packages (from scikit-learn->-r requirements.txt (line 3)) (3.5.0)\n",
      "Requirement already satisfied: joblib>=1.2.0 in ./mvenv/lib/python3.10/site-packages (from scikit-learn->-r requirements.txt (line 3)) (1.4.2)\n",
      "Requirement already satisfied: et-xmlfile in ./mvenv/lib/python3.10/site-packages (from openpyxl->-r requirements.txt (line 5)) (2.0.0)\n",
      "Requirement already satisfied: contourpy>=1.0.1 in ./mvenv/lib/python3.10/site-packages (from matplotlib->-r requirements.txt (line 6)) (1.3.1)\n",
      "Requirement already satisfied: fonttools>=4.22.0 in ./mvenv/lib/python3.10/site-packages (from matplotlib->-r requirements.txt (line 6)) (4.56.0)\n",
      "Requirement already satisfied: kiwisolver>=1.3.1 in ./mvenv/lib/python3.10/site-packages (from matplotlib->-r requirements.txt (line 6)) (1.4.8)\n",
      "Requirement already satisfied: pillow>=8 in ./mvenv/lib/python3.10/site-packages (from matplotlib->-r requirements.txt (line 6)) (11.1.0)\n",
      "Requirement already satisfied: packaging>=20.0 in ./mvenv/lib/python3.10/site-packages (from matplotlib->-r requirements.txt (line 6)) (24.2)\n",
      "Requirement already satisfied: pyparsing>=2.3.1 in ./mvenv/lib/python3.10/site-packages (from matplotlib->-r requirements.txt (line 6)) (3.2.1)\n",
      "Requirement already satisfied: cycler>=0.10 in ./mvenv/lib/python3.10/site-packages (from matplotlib->-r requirements.txt (line 6)) (0.12.1)\n",
      "Requirement already satisfied: cloudpickle in ./mvenv/lib/python3.10/site-packages (from shap->-r requirements.txt (line 8)) (3.1.1)\n",
      "Requirement already satisfied: tqdm>=4.27.0 in ./mvenv/lib/python3.10/site-packages (from shap->-r requirements.txt (line 8)) (4.67.1)\n",
      "Requirement already satisfied: numba in ./mvenv/lib/python3.10/site-packages (from shap->-r requirements.txt (line 8)) (0.61.0)\n",
      "Requirement already satisfied: slicer==0.0.8 in ./mvenv/lib/python3.10/site-packages (from shap->-r requirements.txt (line 8)) (0.0.8)\n",
      "Requirement already satisfied: nvidia-nccl-cu12 in ./mvenv/lib/python3.10/site-packages (from xgboost->-r requirements.txt (line 9)) (2.25.1)\n",
      "Requirement already satisfied: six>=1.5 in ./mvenv/lib/python3.10/site-packages (from python-dateutil>=2.8.2->pandas->-r requirements.txt (line 1)) (1.17.0)\n",
      "Requirement already satisfied: llvmlite<0.45,>=0.44.0dev0 in ./mvenv/lib/python3.10/site-packages (from numba->shap->-r requirements.txt (line 8)) (0.44.0)\n"
     ]
    }
   ],
   "source": [
    "# Commande pour installer les dépendances\n",
    "!pip install -r requirements.txt"
   ]
  },
  {
   "cell_type": "markdown",
   "metadata": {},
   "source": [
    "### 1.2. IMPORTATION DES LIBRAIRIES"
   ]
  },
  {
   "cell_type": "code",
   "execution_count": 3,
   "metadata": {},
   "outputs": [],
   "source": [
    "# Importation des bibliothèques principales\n",
    "  \n",
    "import numpy as np  # Manipulation de tableaux numériques, gestion des calculs mathématiques  \n",
    "import pandas as pd  # Gestion et manipulation des données sous forme de DataFrame  \n",
    "\n",
    "# Visualisation des données  \n",
    "import seaborn as sns  # Création de graphiques statistiques avancés  \n",
    "import matplotlib.pyplot as plt  # Génération de visualisations basiques (histogrammes, scatter plots, etc.)  \n",
    "\n",
    "# Préparation des données et séparation en train/test  \n",
    "from sklearn.model_selection import train_test_split  # Découpage des données en ensembles d'entraînement et de test  \n",
    "from sklearn.preprocessing import OneHotEncoder  # Encodage des variables catégorielles en variables numériques  \n",
    "\n",
    "# Modèle de base (Régression Logistique)  \n",
    "from sklearn.linear_model import LogisticRegression  # Modèle de régression logistique pour la classification  \n",
    "\n",
    "# Évaluation des modèles  \n",
    "from sklearn.metrics import classification_report  # Génération d’un rapport de performance des modèles  \n",
    "\n",
    "# Gestion des classes déséquilibrées  \n",
    "from sklearn.utils import resample  # Sous-échantillonnage de la classe majoritaire (undersampling)  \n",
    "from imblearn.over_sampling import SMOTE  # Sur-échantillonnage de la classe minoritaire (oversampling)  \n",
    "\n",
    "# Modèles avancés  \n",
    "from sklearn.ensemble import RandomForestClassifier  # Modèle de Random Forest pour la classification  \n",
    "from xgboost import XGBClassifier  # Modèle XGBoost pour une classification optimisée  \n",
    "\n",
    "# Optimisation des modèles  \n",
    "from sklearn.model_selection import GridSearchCV  # Recherche des meilleurs hyperparamètres avec validation croisée  \n",
    "from imblearn.pipeline import Pipeline as ImbPipeline  # Création d'un pipeline intégrant le prétraitement et le modèle  \n",
    "\n",
    "# Interprétabilité des modèles  \n",
    "import shap  # Explication des prédictions des modèles avec SHAP (SHapley Additive exPlanations)  \n",
    "\n",
    "from tqdm import tqdm  # Affichage de barres de progression pour suivre l’exécution des boucles\n"
   ]
  }
 ],
 "metadata": {
  "kernelspec": {
   "display_name": "mvenv",
   "language": "python",
   "name": "python3"
  },
  "language_info": {
   "codemirror_mode": {
    "name": "ipython",
    "version": 3
   },
   "file_extension": ".py",
   "mimetype": "text/x-python",
   "name": "python",
   "nbconvert_exporter": "python",
   "pygments_lexer": "ipython3",
   "version": "3.10.12"
  }
 },
 "nbformat": 4,
 "nbformat_minor": 2
}
